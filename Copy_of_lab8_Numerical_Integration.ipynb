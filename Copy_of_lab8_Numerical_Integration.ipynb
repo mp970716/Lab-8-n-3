{
  "nbformat": 4,
  "nbformat_minor": 0,
  "metadata": {
    "colab": {
      "name": "Copy of lab8_Numerical_Integration.ipynb",
      "provenance": [],
      "include_colab_link": true
    },
    "kernelspec": {
      "name": "python3",
      "display_name": "Python 3"
    }
  },
  "cells": [
    {
      "cell_type": "markdown",
      "metadata": {
        "id": "view-in-github",
        "colab_type": "text"
      },
      "source": [
        "<a href=\"https://colab.research.google.com/github/mp970716/Lab-8-n-3/blob/master/Copy_of_lab8_Numerical_Integration.ipynb\" target=\"_parent\"><img src=\"https://colab.research.google.com/assets/colab-badge.svg\" alt=\"Open In Colab\"/></a>"
      ]
    },
    {
      "cell_type": "markdown",
      "metadata": {
        "id": "u7d3J_hYjB6s",
        "colab_type": "text"
      },
      "source": [
        "\n",
        "# **Numerical Integration**\n",
        "\n"
      ]
    },
    {
      "cell_type": "markdown",
      "metadata": {
        "id": "yKxwQsM8jQdi",
        "colab_type": "text"
      },
      "source": [
        "Let's take a simple function:\n",
        "\n",
        "\\begin{align}f(x) = exp(-x^2)\\end{align}\n",
        "\n",
        "which we know the analytical integral as:\n",
        "\n",
        "\\begin{align}F(x) =  \\frac{1}{2} pi*erf(x) \\end{align}\n",
        "\n",
        "and let's integrate that from m to M using p points. Compare it with result from scipy.integrate\n",
        "\n",
        "\n"
      ]
    },
    {
      "cell_type": "code",
      "metadata": {
        "id": "9POCep3ht01E",
        "colab_type": "code",
        "colab": {}
      },
      "source": [
        "import numpy as np\n",
        "import matplotlib.pyplot as plt\n",
        "from scipy import integrate\n",
        "import math\n",
        "# Initial function given\n",
        "def f(x):\n",
        "    y = math.exp(-pow(x,2)) \n",
        "    return y\n",
        "\n",
        "\n",
        "# Integral of the function  calculated using scipy.integrate\n",
        "def F(a,b):\n",
        "    if a > b:\n",
        "        raise ValueError('b must be greater than a')\n",
        "    elif a == b:\n",
        "        return 0\n",
        "    else:\n",
        "        y = integrate.quad(lambda x: f(x), a, b)\n",
        "        return y\n"
      ],
      "execution_count": 0,
      "outputs": []
    },
    {
      "cell_type": "code",
      "metadata": {
        "id": "4i4V7MXEuJmW",
        "colab_type": "code",
        "colab": {}
      },
      "source": [
        "\n",
        "# Approximating function using numerical methods:\n",
        "    # rectangular left, right, middle:\n",
        "    #   rectangularL, rectangularR, rectangularM\n",
        "    # trapezoidal\n",
        "def approximateNumerical(a,b,points=10,mod='rectangularM',plt_data=False):\n",
        "    if points < 2:\n",
        "        raise ValueError('Number of points must be greater than 2')\n",
        "    if a == b:\n",
        "        return 0\n",
        "    n = np.linspace(a,b,points)\n",
        "    partialSum = 0\n",
        "    if mod == 'rectangularM':\n",
        "        def miniArea(c,d):\n",
        "            return (d-c)*f((c+d)/2)\n",
        "    elif mod == 'rectangularL':\n",
        "        def miniArea(c,d):\n",
        "            return (d-c)*f(c)\n",
        "    elif mod == 'rectangularR':\n",
        "        def miniArea(c,d):\n",
        "            return (d-c)*f(d)                        \n",
        "    elif mod == 'trapezoidal':\n",
        "        def miniArea(c,d):\n",
        "            return (d-c)*(f(c)+f(d))/2\n",
        "    else:\n",
        "        raise ValueError('Method '+mod+' unknown')\n",
        "    \n",
        "    for i in range(1,len(n)):\n",
        "        partialSum += miniArea(n[i-1],n[i])\n",
        "\n",
        "    if (plot_dat):\n",
        "       plot_dat(a,b,points,mod)\n",
        "       \n",
        "    return partialSum"
      ],
      "execution_count": 0,
      "outputs": []
    },
    {
      "cell_type": "code",
      "metadata": {
        "id": "Tpi_uprouYQo",
        "colab_type": "code",
        "colab": {}
      },
      "source": [
        "# Plotting function for a visual representation\n",
        "def plot_dat(a,b,points,mod='rectangularM'):\n",
        "\n",
        "    n = np.linspace(a,b,points)\n",
        "\n",
        "    plt.xlabel('x')\n",
        "    plt.ylabel('y')\n",
        "    plt.title('Numerical approximation: '+mod)\n",
        "    if mod == 'rectangularM':    \n",
        "        for i in range(1,len(n)):\n",
        "            c = n[i-1]\n",
        "            d = n[i]\n",
        "            plt.plot([c,c],[0,f((c+d)/2)],color='blue')\n",
        "            plt.plot([d,d],[0,f((c+d)/2)],color='blue')\n",
        "            plt.plot([c,d],[f((c+d)/2),f((c+d)/2)],color='blue')\n",
        "\n",
        "    elif mod == 'rectangularL':    \n",
        "        for i in range(1,len(n)):\n",
        "            c = n[i-1]\n",
        "            d = n[i]\n",
        "            plt.plot([c,c],[0,f(c)],color='blue')\n",
        "            plt.plot([d,d],[0,f(c)],color='blue')\n",
        "            plt.plot([c,d],[f(c),f(c)],color='blue')\n",
        "\n",
        "    elif mod == 'rectangularR':    \n",
        "        for i in range(1,len(n)):\n",
        "            c = n[i-1]\n",
        "            d = n[i]\n",
        "            plt.plot([c,c],[0,f(d)],color='blue')\n",
        "            plt.plot([d,d],[0,f(d)],color='blue')\n",
        "            plt.plot([c,d],[f(d),f(d)],color='blue')\n",
        "\n",
        "    elif mod == 'trapezoidal':\n",
        "        for i in range(1,len(n)):\n",
        "            c = n[i-1]\n",
        "            d = n[i]\n",
        "            plt.plot([d,d],[0,f(d)],color='blue')\n",
        "            plt.plot([c,c],[0,f(c)],color='blue')\n",
        "            plt.plot([c,d],[f(c),f(d)],color='blue')\n",
        "\n",
        "\n",
        "    n_dense = np.linspace(a,b,10*points)\n",
        "    plt.plot(n_dense,f(n_dense),color='red')   \n",
        "    plt.show()\n",
        "\n",
        "    return 0\n",
        "    "
      ],
      "execution_count": 0,
      "outputs": []
    },
    {
      "cell_type": "code",
      "metadata": {
        "id": "hqxCk5o5tl3M",
        "colab_type": "code",
        "outputId": "9d193a75-df35-4288-99e5-adff66a221b9",
        "colab": {
          "base_uri": "https://localhost:8080/",
          "height": 687
        }
      },
      "source": [
        "\n",
        "\n",
        "#-----------------------------Run the program----------------------------------\n",
        "\n",
        "# Initial parameters:\n",
        "    # xmin = m\n",
        "    # xmax = M\n",
        "    # points used = p\n",
        "\n",
        "m = -1\n",
        "M = 3\n",
        "p = 10\n",
        "\n",
        "actual = F(m,M)[0]\n",
        "print('Actual area:',actual)\n",
        "print('#############################################################')\n",
        "\n",
        "recL = approximateNumerical(m,M,p,mod='rectangularL',plt_data=True)\n",
        "print('Approximation rectangularL:',recL,' error: ',abs((recL-actual)/actual)*100.,' %')\n",
        "recR = approximateNumerical(m,M,p,mod='rectangularR',plt_data=True)\n",
        "print('Approximation rectangularR:',recR,' error: ',abs((recR-actual)/actual)*100.,' %')\n",
        "recM = approximateNumerical(m,M,p,mod='rectangularM',plt_data=True)\n",
        "print('Approximation rectangularM:',recM,' error: ',abs((recM-actual)/actual)*100.,' %')\n",
        "trap = approximateNumerical(m,M,p,mod='trapezoidal',plt_data=True)\n",
        "print('Approximation trapezoidal: ', trap,' error: ',abs((trap-actual)/actual)*100.,' %')\n",
        "\n",
        "\n",
        "\n",
        "\n"
      ],
      "execution_count": 0,
      "outputs": [
        {
          "output_type": "stream",
          "text": [
            "Actual area: 1.6330314810719482\n",
            "#############################################################\n"
          ],
          "name": "stdout"
        },
        {
          "output_type": "error",
          "ename": "TypeError",
          "evalue": "ignored",
          "traceback": [
            "\u001b[0;31m---------------------------------------------------------------------------\u001b[0m",
            "\u001b[0;31mTypeError\u001b[0m                                 Traceback (most recent call last)",
            "\u001b[0;32m<ipython-input-29-10e9c64d44d0>\u001b[0m in \u001b[0;36m<module>\u001b[0;34m()\u001b[0m\n\u001b[1;32m     16\u001b[0m \u001b[0mprint\u001b[0m\u001b[0;34m(\u001b[0m\u001b[0;34m'#############################################################'\u001b[0m\u001b[0;34m)\u001b[0m\u001b[0;34m\u001b[0m\u001b[0;34m\u001b[0m\u001b[0m\n\u001b[1;32m     17\u001b[0m \u001b[0;34m\u001b[0m\u001b[0m\n\u001b[0;32m---> 18\u001b[0;31m \u001b[0mrecL\u001b[0m \u001b[0;34m=\u001b[0m \u001b[0mapproximateNumerical\u001b[0m\u001b[0;34m(\u001b[0m\u001b[0mm\u001b[0m\u001b[0;34m,\u001b[0m\u001b[0mM\u001b[0m\u001b[0;34m,\u001b[0m\u001b[0mp\u001b[0m\u001b[0;34m,\u001b[0m\u001b[0mmod\u001b[0m\u001b[0;34m=\u001b[0m\u001b[0;34m'rectangularL'\u001b[0m\u001b[0;34m,\u001b[0m\u001b[0mplt_data\u001b[0m\u001b[0;34m=\u001b[0m\u001b[0;32mTrue\u001b[0m\u001b[0;34m)\u001b[0m\u001b[0;34m\u001b[0m\u001b[0;34m\u001b[0m\u001b[0m\n\u001b[0m\u001b[1;32m     19\u001b[0m \u001b[0mprint\u001b[0m\u001b[0;34m(\u001b[0m\u001b[0;34m'Approximation rectangularL:'\u001b[0m\u001b[0;34m,\u001b[0m\u001b[0mrecL\u001b[0m\u001b[0;34m,\u001b[0m\u001b[0;34m' error: '\u001b[0m\u001b[0;34m,\u001b[0m\u001b[0mabs\u001b[0m\u001b[0;34m(\u001b[0m\u001b[0;34m(\u001b[0m\u001b[0mrecL\u001b[0m\u001b[0;34m-\u001b[0m\u001b[0mactual\u001b[0m\u001b[0;34m)\u001b[0m\u001b[0;34m/\u001b[0m\u001b[0mactual\u001b[0m\u001b[0;34m)\u001b[0m\u001b[0;34m*\u001b[0m\u001b[0;36m100.\u001b[0m\u001b[0;34m,\u001b[0m\u001b[0;34m' %'\u001b[0m\u001b[0;34m)\u001b[0m\u001b[0;34m\u001b[0m\u001b[0;34m\u001b[0m\u001b[0m\n\u001b[1;32m     20\u001b[0m \u001b[0mrecR\u001b[0m \u001b[0;34m=\u001b[0m \u001b[0mapproximateNumerical\u001b[0m\u001b[0;34m(\u001b[0m\u001b[0mm\u001b[0m\u001b[0;34m,\u001b[0m\u001b[0mM\u001b[0m\u001b[0;34m,\u001b[0m\u001b[0mp\u001b[0m\u001b[0;34m,\u001b[0m\u001b[0mmod\u001b[0m\u001b[0;34m=\u001b[0m\u001b[0;34m'rectangularR'\u001b[0m\u001b[0;34m,\u001b[0m\u001b[0mplt_data\u001b[0m\u001b[0;34m=\u001b[0m\u001b[0;32mTrue\u001b[0m\u001b[0;34m)\u001b[0m\u001b[0;34m\u001b[0m\u001b[0;34m\u001b[0m\u001b[0m\n",
            "\u001b[0;32m<ipython-input-27-206ff00efca5>\u001b[0m in \u001b[0;36mapproximateNumerical\u001b[0;34m(a, b, points, mod, plt_data)\u001b[0m\n\u001b[1;32m     30\u001b[0m \u001b[0;34m\u001b[0m\u001b[0m\n\u001b[1;32m     31\u001b[0m     \u001b[0;32mif\u001b[0m \u001b[0;34m(\u001b[0m\u001b[0mplot_dat\u001b[0m\u001b[0;34m)\u001b[0m\u001b[0;34m:\u001b[0m\u001b[0;34m\u001b[0m\u001b[0;34m\u001b[0m\u001b[0m\n\u001b[0;32m---> 32\u001b[0;31m        \u001b[0mplot_dat\u001b[0m\u001b[0;34m(\u001b[0m\u001b[0ma\u001b[0m\u001b[0;34m,\u001b[0m\u001b[0mb\u001b[0m\u001b[0;34m,\u001b[0m\u001b[0mpoints\u001b[0m\u001b[0;34m,\u001b[0m\u001b[0mmod\u001b[0m\u001b[0;34m)\u001b[0m\u001b[0;34m\u001b[0m\u001b[0;34m\u001b[0m\u001b[0m\n\u001b[0m\u001b[1;32m     33\u001b[0m \u001b[0;34m\u001b[0m\u001b[0m\n\u001b[1;32m     34\u001b[0m     \u001b[0;32mreturn\u001b[0m \u001b[0mpartialSum\u001b[0m\u001b[0;34m\u001b[0m\u001b[0;34m\u001b[0m\u001b[0m\n",
            "\u001b[0;32m<ipython-input-28-1bd30b4299b0>\u001b[0m in \u001b[0;36mplot_dat\u001b[0;34m(a, b, points, mod)\u001b[0m\n\u001b[1;32m     41\u001b[0m \u001b[0;34m\u001b[0m\u001b[0m\n\u001b[1;32m     42\u001b[0m     \u001b[0mn_dense\u001b[0m \u001b[0;34m=\u001b[0m \u001b[0mnp\u001b[0m\u001b[0;34m.\u001b[0m\u001b[0mlinspace\u001b[0m\u001b[0;34m(\u001b[0m\u001b[0ma\u001b[0m\u001b[0;34m,\u001b[0m\u001b[0mb\u001b[0m\u001b[0;34m,\u001b[0m\u001b[0;36m10\u001b[0m\u001b[0;34m*\u001b[0m\u001b[0mpoints\u001b[0m\u001b[0;34m)\u001b[0m\u001b[0;34m\u001b[0m\u001b[0;34m\u001b[0m\u001b[0m\n\u001b[0;32m---> 43\u001b[0;31m     \u001b[0mplt\u001b[0m\u001b[0;34m.\u001b[0m\u001b[0mplot\u001b[0m\u001b[0;34m(\u001b[0m\u001b[0mn_dense\u001b[0m\u001b[0;34m,\u001b[0m\u001b[0mf\u001b[0m\u001b[0;34m(\u001b[0m\u001b[0mn_dense\u001b[0m\u001b[0;34m)\u001b[0m\u001b[0;34m,\u001b[0m\u001b[0mcolor\u001b[0m\u001b[0;34m=\u001b[0m\u001b[0;34m'red'\u001b[0m\u001b[0;34m)\u001b[0m\u001b[0;34m\u001b[0m\u001b[0;34m\u001b[0m\u001b[0m\n\u001b[0m\u001b[1;32m     44\u001b[0m     \u001b[0mplt\u001b[0m\u001b[0;34m.\u001b[0m\u001b[0mshow\u001b[0m\u001b[0;34m(\u001b[0m\u001b[0;34m)\u001b[0m\u001b[0;34m\u001b[0m\u001b[0;34m\u001b[0m\u001b[0m\n\u001b[1;32m     45\u001b[0m \u001b[0;34m\u001b[0m\u001b[0m\n",
            "\u001b[0;32m<ipython-input-26-f4807ad9cb55>\u001b[0m in \u001b[0;36mf\u001b[0;34m(x)\u001b[0m\n\u001b[1;32m      5\u001b[0m \u001b[0;31m# Initial function given\u001b[0m\u001b[0;34m\u001b[0m\u001b[0;34m\u001b[0m\u001b[0;34m\u001b[0m\u001b[0m\n\u001b[1;32m      6\u001b[0m \u001b[0;32mdef\u001b[0m \u001b[0mf\u001b[0m\u001b[0;34m(\u001b[0m\u001b[0mx\u001b[0m\u001b[0;34m)\u001b[0m\u001b[0;34m:\u001b[0m\u001b[0;34m\u001b[0m\u001b[0;34m\u001b[0m\u001b[0m\n\u001b[0;32m----> 7\u001b[0;31m     \u001b[0my\u001b[0m \u001b[0;34m=\u001b[0m \u001b[0mmath\u001b[0m\u001b[0;34m.\u001b[0m\u001b[0mexp\u001b[0m\u001b[0;34m(\u001b[0m\u001b[0;34m-\u001b[0m\u001b[0mpow\u001b[0m\u001b[0;34m(\u001b[0m\u001b[0mx\u001b[0m\u001b[0;34m,\u001b[0m\u001b[0;36m2\u001b[0m\u001b[0;34m)\u001b[0m\u001b[0;34m)\u001b[0m\u001b[0;34m\u001b[0m\u001b[0;34m\u001b[0m\u001b[0m\n\u001b[0m\u001b[1;32m      8\u001b[0m     \u001b[0;32mreturn\u001b[0m \u001b[0my\u001b[0m\u001b[0;34m\u001b[0m\u001b[0;34m\u001b[0m\u001b[0m\n\u001b[1;32m      9\u001b[0m \u001b[0;34m\u001b[0m\u001b[0m\n",
            "\u001b[0;31mTypeError\u001b[0m: only size-1 arrays can be converted to Python scalars"
          ]
        },
        {
          "output_type": "display_data",
          "data": {
            "image/png": "[encoded data removed]",
            "text/plain": [
              "<Figure size 432x288 with 1 Axes>"
            ]
          },
          "metadata": {
            "tags": [],
            "needs_background": "light"
          }
        }
      ]
    }
  ]
}